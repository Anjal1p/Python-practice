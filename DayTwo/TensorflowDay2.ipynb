{
  "nbformat": 4,
  "nbformat_minor": 0,
  "metadata": {
    "colab": {
      "name": "TensorflowDay2.ipynb",
      "version": "0.3.2",
      "provenance": [],
      "collapsed_sections": [],
      "include_colab_link": true
    },
    "kernelspec": {
      "name": "python3",
      "display_name": "Python 3"
    }
  },
  "cells": [
    {
      "cell_type": "markdown",
      "metadata": {
        "id": "view-in-github",
        "colab_type": "text"
      },
      "source": [
        "<a href=\"https://colab.research.google.com/github/Anjal1p/Python-practice/blob/master/TensorflowDay2.ipynb\" target=\"_parent\"><img src=\"https://colab.research.google.com/assets/colab-badge.svg\" alt=\"Open In Colab\"/></a>"
      ]
    },
    {
      "metadata": {
        "id": "2R7H0uJ6PyZi",
        "colab_type": "code",
        "colab": {}
      },
      "cell_type": "code",
      "source": [
        "import tensorflow as tf"
      ],
      "execution_count": 0,
      "outputs": []
    },
    {
      "metadata": {
        "id": "CxizA78aVZtn",
        "colab_type": "text"
      },
      "cell_type": "markdown",
      "source": [
        "***# Simple constants***"
      ]
    },
    {
      "metadata": {
        "id": "K--S-aw8VZZu",
        "colab_type": "code",
        "colab": {}
      },
      "cell_type": "code",
      "source": [
        "Hello = tf.constant(\"Hello World\")"
      ],
      "execution_count": 0,
      "outputs": []
    },
    {
      "metadata": {
        "id": "1ha4ldp6VrQT",
        "colab_type": "text"
      },
      "cell_type": "markdown",
      "source": [
        "***to check for data type***"
      ]
    },
    {
      "metadata": {
        "id": "Vjzv7S65Vnt5",
        "colab_type": "code",
        "outputId": "c309afd9-43ad-4d75-f18d-46671cefd3bc",
        "colab": {
          "base_uri": "https://localhost:8080/",
          "height": 34
        }
      },
      "cell_type": "code",
      "source": [
        "type(Hello)"
      ],
      "execution_count": 0,
      "outputs": [
        {
          "output_type": "execute_result",
          "data": {
            "text/plain": [
              "tensorflow.python.framework.ops.Tensor"
            ]
          },
          "metadata": {
            "tags": []
          },
          "execution_count": 3
        }
      ]
    },
    {
      "metadata": {
        "id": "f23zFyEKVq9h",
        "colab_type": "code",
        "colab": {}
      },
      "cell_type": "code",
      "source": [
        "x = tf.constant(100)"
      ],
      "execution_count": 0,
      "outputs": []
    },
    {
      "metadata": {
        "id": "mbAoszvEVyno",
        "colab_type": "code",
        "outputId": "e876915c-deb8-4b80-9196-7ced97a89dde",
        "colab": {
          "base_uri": "https://localhost:8080/",
          "height": 34
        }
      },
      "cell_type": "code",
      "source": [
        "type(x)"
      ],
      "execution_count": 0,
      "outputs": [
        {
          "output_type": "execute_result",
          "data": {
            "text/plain": [
              "tensorflow.python.framework.ops.Tensor"
            ]
          },
          "metadata": {
            "tags": []
          },
          "execution_count": 5
        }
      ]
    },
    {
      "metadata": {
        "id": "g6FM5wIhV0c-",
        "colab_type": "text"
      },
      "cell_type": "markdown",
      "source": [
        "***Running Sessions***\n",
        "```\n",
        "encapsulates the environment where the object resides\n",
        "```\n",
        "\n"
      ]
    },
    {
      "metadata": {
        "id": "lKtXEyqPV0Or",
        "colab_type": "code",
        "colab": {}
      },
      "cell_type": "code",
      "source": [
        "sess = tf.Session()"
      ],
      "execution_count": 0,
      "outputs": []
    },
    {
      "metadata": {
        "id": "QWh3Xv0ZWLQM",
        "colab_type": "code",
        "outputId": "82d3ef1b-6031-4b60-835b-966332a55eef",
        "colab": {
          "base_uri": "https://localhost:8080/",
          "height": 34
        }
      },
      "cell_type": "code",
      "source": [
        "sess.run(Hello)"
      ],
      "execution_count": 0,
      "outputs": [
        {
          "output_type": "execute_result",
          "data": {
            "text/plain": [
              "b'Hello World'"
            ]
          },
          "metadata": {
            "tags": []
          },
          "execution_count": 7
        }
      ]
    },
    {
      "metadata": {
        "id": "IVEXr6sxWdh8",
        "colab_type": "code",
        "outputId": "246a9e21-efdb-4990-c28f-e92deaf7c4fe",
        "colab": {
          "base_uri": "https://localhost:8080/",
          "height": 34
        }
      },
      "cell_type": "code",
      "source": [
        "type(sess.run(Hello))"
      ],
      "execution_count": 0,
      "outputs": [
        {
          "output_type": "execute_result",
          "data": {
            "text/plain": [
              "bytes"
            ]
          },
          "metadata": {
            "tags": []
          },
          "execution_count": 9
        }
      ]
    },
    {
      "metadata": {
        "id": "Vz5A4vWkWkIj",
        "colab_type": "code",
        "outputId": "d2c8facf-fe0c-40e1-d41a-3a55707ac743",
        "colab": {
          "base_uri": "https://localhost:8080/",
          "height": 34
        }
      },
      "cell_type": "code",
      "source": [
        "sess.run(x)"
      ],
      "execution_count": 0,
      "outputs": [
        {
          "output_type": "execute_result",
          "data": {
            "text/plain": [
              "100"
            ]
          },
          "metadata": {
            "tags": []
          },
          "execution_count": 10
        }
      ]
    },
    {
      "metadata": {
        "id": "svOPQE9lWnSN",
        "colab_type": "code",
        "colab": {}
      },
      "cell_type": "code",
      "source": [
        "x = tf.constant(5)\n",
        "y = tf.constant(6)\n"
      ],
      "execution_count": 0,
      "outputs": []
    },
    {
      "metadata": {
        "id": "4GOulPQiXWi0",
        "colab_type": "text"
      },
      "cell_type": "markdown",
      "source": [
        "***Loop and computation graphs***\n",
        "\n",
        "*   with acts as a for or while loop\n",
        "\n",
        "*   sess.run populates the computation graph"
      ]
    },
    {
      "metadata": {
        "id": "SAWhD90bWsyj",
        "colab_type": "code",
        "outputId": "791e5ce5-43c0-4828-a076-77549a30419c",
        "colab": {
          "base_uri": "https://localhost:8080/",
          "height": 68
        }
      },
      "cell_type": "code",
      "source": [
        "with tf.Session() as sess:\n",
        "  \n",
        "  print(\"Operatios with constants\")\n",
        "  print(\"Addition\", sess.run(x+y))\n",
        "  print(\"Subtraction\", sess.run(y-x))\n",
        "  "
      ],
      "execution_count": 0,
      "outputs": [
        {
          "output_type": "stream",
          "text": [
            "Operatios with constants\n",
            "Addition 11\n",
            "Subtraction 1\n"
          ],
          "name": "stdout"
        }
      ]
    },
    {
      "metadata": {
        "id": "iFRosabGXmF4",
        "colab_type": "text"
      },
      "cell_type": "markdown",
      "source": [
        "***Placeholders ***\n",
        "A tool that inserts a placeholder of a tensor\n",
        "\n",
        "*   List item\n",
        "*   List item\n",
        "\n"
      ]
    },
    {
      "metadata": {
        "id": "lPJgN3kmX0e-",
        "colab_type": "code",
        "colab": {}
      },
      "cell_type": "code",
      "source": [
        "x = tf.placeholder(tf.float32, shape = (1024, 1024))\n",
        "x = tf.placeholder(tf.int32)\n",
        "y = tf.placeholder(tf.int32)"
      ],
      "execution_count": 0,
      "outputs": []
    },
    {
      "metadata": {
        "id": "ZBIzNxEeYICB",
        "colab_type": "code",
        "outputId": "09a4410f-6278-48dd-eba0-9fa3b8c15b36",
        "colab": {
          "base_uri": "https://localhost:8080/",
          "height": 34
        }
      },
      "cell_type": "code",
      "source": [
        "x"
      ],
      "execution_count": 0,
      "outputs": [
        {
          "output_type": "execute_result",
          "data": {
            "text/plain": [
              "<tf.Tensor 'Placeholder_4:0' shape=<unknown> dtype=int32>"
            ]
          },
          "metadata": {
            "tags": []
          },
          "execution_count": 15
        }
      ]
    },
    {
      "metadata": {
        "id": "mTVdJEFKYKgx",
        "colab_type": "code",
        "outputId": "6bcaac77-3b0d-41ca-f7ec-691f92822723",
        "colab": {
          "base_uri": "https://localhost:8080/",
          "height": 34
        }
      },
      "cell_type": "code",
      "source": [
        "type(x)"
      ],
      "execution_count": 0,
      "outputs": [
        {
          "output_type": "execute_result",
          "data": {
            "text/plain": [
              "tensorflow.python.framework.ops.Tensor"
            ]
          },
          "metadata": {
            "tags": []
          },
          "execution_count": 16
        }
      ]
    },
    {
      "metadata": {
        "id": "WW7zzm-0YMyL",
        "colab_type": "code",
        "colab": {}
      },
      "cell_type": "code",
      "source": [
        "add = tf.add(x,y)\n",
        "sub = tf.subtract(x,y)\n",
        "mul = tf.multiply(x,y)"
      ],
      "execution_count": 0,
      "outputs": []
    },
    {
      "metadata": {
        "id": "YbgjSdXUYZnx",
        "colab_type": "code",
        "outputId": "85ee4112-b77c-42f5-85ae-a535c5364051",
        "colab": {
          "base_uri": "https://localhost:8080/",
          "height": 34
        }
      },
      "cell_type": "code",
      "source": [
        "add"
      ],
      "execution_count": 0,
      "outputs": [
        {
          "output_type": "execute_result",
          "data": {
            "text/plain": [
              "<tf.Tensor 'Add_1:0' shape=<unknown> dtype=int32>"
            ]
          },
          "metadata": {
            "tags": []
          },
          "execution_count": 18
        }
      ]
    },
    {
      "metadata": {
        "id": "3BNbxK4xYdEZ",
        "colab_type": "text"
      },
      "cell_type": "markdown",
      "source": [
        "***Dictionary***: \n",
        "format - d{ }"
      ]
    },
    {
      "metadata": {
        "id": "wAxVwpwdYusD",
        "colab_type": "code",
        "colab": {}
      },
      "cell_type": "code",
      "source": [
        "d = {x:20, y:30}"
      ],
      "execution_count": 0,
      "outputs": []
    },
    {
      "metadata": {
        "id": "3RCZyy_3YmUz",
        "colab_type": "code",
        "outputId": "3d95138d-bd58-4631-d104-ec91430cfb6b",
        "colab": {
          "base_uri": "https://localhost:8080/",
          "height": 85
        }
      },
      "cell_type": "code",
      "source": [
        "with tf.Session() as sess:\n",
        "  print(\"Operations with constants\")\n",
        "  print(\"Addition\",sess.run(add, feed_dict=d))\n",
        "  print(\"Subtraction\",sess.run(sub, feed_dict=d))\n",
        "  print(\"Multiply\",sess.run(mul, feed_dict=d))\n"
      ],
      "execution_count": 0,
      "outputs": [
        {
          "output_type": "stream",
          "text": [
            "Operations with constants\n",
            "Addition 50\n",
            "Subtraction -10\n",
            "Multiply 600\n"
          ],
          "name": "stdout"
        }
      ]
    },
    {
      "metadata": {
        "id": "1U9q-zPiZAXx",
        "colab_type": "text"
      },
      "cell_type": "markdown",
      "source": [
        "***More complex operations***\n",
        "\n",
        "\n",
        "*   floating points\n",
        "*   List item\n",
        "\n"
      ]
    },
    {
      "metadata": {
        "id": "kSUtLDACZFea",
        "colab_type": "code",
        "outputId": "f1e041e0-4e4b-4c6a-f1b1-9e60f8b2b567",
        "colab": {
          "base_uri": "https://localhost:8080/",
          "height": 34
        }
      },
      "cell_type": "code",
      "source": [
        "import numpy as np\n",
        "a = np.array([[2,0],[2.0]])\n",
        "b = np.array([[5.0, 5.0]])\n",
        "a"
      ],
      "execution_count": 0,
      "outputs": [
        {
          "output_type": "execute_result",
          "data": {
            "text/plain": [
              "array([list([2, 0]), list([2.0])], dtype=object)"
            ]
          },
          "metadata": {
            "tags": []
          },
          "execution_count": 21
        }
      ]
    },
    {
      "metadata": {
        "id": "9g0S8ldjZdLq",
        "colab_type": "code",
        "outputId": "48a37205-de3d-4a08-83ef-672b8eeef3c0",
        "colab": {
          "base_uri": "https://localhost:8080/",
          "height": 34
        }
      },
      "cell_type": "code",
      "source": [
        "b.shape"
      ],
      "execution_count": 0,
      "outputs": [
        {
          "output_type": "execute_result",
          "data": {
            "text/plain": [
              "(1, 2)"
            ]
          },
          "metadata": {
            "tags": []
          },
          "execution_count": 22
        }
      ]
    },
    {
      "metadata": {
        "id": "mJfLaD9qZhTq",
        "colab_type": "code",
        "outputId": "e8344b60-030a-4839-d2e5-d4d581a67ba8",
        "colab": {
          "base_uri": "https://localhost:8080/",
          "height": 34
        }
      },
      "cell_type": "code",
      "source": [
        "b"
      ],
      "execution_count": 0,
      "outputs": [
        {
          "output_type": "execute_result",
          "data": {
            "text/plain": [
              "array([[5., 5.]])"
            ]
          },
          "metadata": {
            "tags": []
          },
          "execution_count": 23
        }
      ]
    },
    {
      "metadata": {
        "id": "HmCQujVkaEnN",
        "colab_type": "text"
      },
      "cell_type": "markdown",
      "source": [
        "matrix multiplication"
      ]
    },
    {
      "metadata": {
        "id": "ZZ0MgoO1ZiuD",
        "colab_type": "code",
        "colab": {}
      },
      "cell_type": "code",
      "source": [
        "mat1 = tf.constant(a)\n",
        "mat2 = tf.constant(b)\n",
        "matrix_multiply = tf.matmul\n"
      ],
      "execution_count": 0,
      "outputs": []
    }
  ]
}
