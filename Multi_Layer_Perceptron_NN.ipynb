{
  "nbformat": 4,
  "nbformat_minor": 0,
  "metadata": {
    "colab": {
      "name": "Multi-Layer-Perceptron-NN.ipynb",
      "version": "0.3.2",
      "provenance": [],
      "include_colab_link": true
    },
    "kernelspec": {
      "display_name": "Python 3",
      "language": "python",
      "name": "python3"
    }
  },
  "cells": [
    {
      "cell_type": "markdown",
      "metadata": {
        "id": "view-in-github",
        "colab_type": "text"
      },
      "source": [
        "<a href=\"https://colab.research.google.com/github/Anjal1p/Python-practice/blob/master/Multi_Layer_Perceptron_NN.ipynb\" target=\"_parent\"><img src=\"https://colab.research.google.com/assets/colab-badge.svg\" alt=\"Open In Colab\"/></a>"
      ]
    },
    {
      "metadata": {
        "scrolled": true,
        "id": "k1nL4GDBs73F",
        "colab_type": "code",
        "colab": {}
      },
      "cell_type": "code",
      "source": [
        "import tensorflow as tf"
      ],
      "execution_count": 0,
      "outputs": []
    },
    {
      "metadata": {
        "id": "tzHhcN2Zs73O",
        "colab_type": "code",
        "colab": {
          "base_uri": "https://localhost:8080/",
          "height": 530
        },
        "outputId": "663ab527-ba2b-4374-e261-fe67b46cfa64"
      },
      "cell_type": "code",
      "source": [
        "from tensorflow.examples.tutorials.mnist import input_data\n",
        "mnist = input_data.read_data_sets(\"MNIST_data\", one_hot=True)"
      ],
      "execution_count": 3,
      "outputs": [
        {
          "output_type": "stream",
          "text": [
            "WARNING:tensorflow:From <ipython-input-3-4e25ee396bc7>:2: read_data_sets (from tensorflow.contrib.learn.python.learn.datasets.mnist) is deprecated and will be removed in a future version.\n",
            "Instructions for updating:\n",
            "Please use alternatives such as official/mnist/dataset.py from tensorflow/models.\n",
            "WARNING:tensorflow:From /usr/local/lib/python3.6/dist-packages/tensorflow/contrib/learn/python/learn/datasets/mnist.py:260: maybe_download (from tensorflow.contrib.learn.python.learn.datasets.base) is deprecated and will be removed in a future version.\n",
            "Instructions for updating:\n",
            "Please write your own downloading logic.\n",
            "WARNING:tensorflow:From /usr/local/lib/python3.6/dist-packages/tensorflow/contrib/learn/python/learn/datasets/base.py:252: _internal_retry.<locals>.wrap.<locals>.wrapped_fn (from tensorflow.contrib.learn.python.learn.datasets.base) is deprecated and will be removed in a future version.\n",
            "Instructions for updating:\n",
            "Please use urllib or similar directly.\n",
            "Successfully downloaded train-images-idx3-ubyte.gz 9912422 bytes.\n",
            "WARNING:tensorflow:From /usr/local/lib/python3.6/dist-packages/tensorflow/contrib/learn/python/learn/datasets/mnist.py:262: extract_images (from tensorflow.contrib.learn.python.learn.datasets.mnist) is deprecated and will be removed in a future version.\n",
            "Instructions for updating:\n",
            "Please use tf.data to implement this functionality.\n",
            "Extracting MNIST_data/train-images-idx3-ubyte.gz\n",
            "Successfully downloaded train-labels-idx1-ubyte.gz 28881 bytes.\n",
            "WARNING:tensorflow:From /usr/local/lib/python3.6/dist-packages/tensorflow/contrib/learn/python/learn/datasets/mnist.py:267: extract_labels (from tensorflow.contrib.learn.python.learn.datasets.mnist) is deprecated and will be removed in a future version.\n",
            "Instructions for updating:\n",
            "Please use tf.data to implement this functionality.\n",
            "Extracting MNIST_data/train-labels-idx1-ubyte.gz\n",
            "WARNING:tensorflow:From /usr/local/lib/python3.6/dist-packages/tensorflow/contrib/learn/python/learn/datasets/mnist.py:110: dense_to_one_hot (from tensorflow.contrib.learn.python.learn.datasets.mnist) is deprecated and will be removed in a future version.\n",
            "Instructions for updating:\n",
            "Please use tf.one_hot on tensors.\n",
            "Successfully downloaded t10k-images-idx3-ubyte.gz 1648877 bytes.\n",
            "Extracting MNIST_data/t10k-images-idx3-ubyte.gz\n",
            "Successfully downloaded t10k-labels-idx1-ubyte.gz 4542 bytes.\n",
            "Extracting MNIST_data/t10k-labels-idx1-ubyte.gz\n",
            "WARNING:tensorflow:From /usr/local/lib/python3.6/dist-packages/tensorflow/contrib/learn/python/learn/datasets/mnist.py:290: DataSet.__init__ (from tensorflow.contrib.learn.python.learn.datasets.mnist) is deprecated and will be removed in a future version.\n",
            "Instructions for updating:\n",
            "Please use alternatives such as official/mnist/dataset.py from tensorflow/models.\n"
          ],
          "name": "stdout"
        }
      ]
    },
    {
      "metadata": {
        "id": "EFDvtAxas73T",
        "colab_type": "text"
      },
      "cell_type": "markdown",
      "source": [
        "### What are we going to do\n",
        "\n",
        "We are going to pretend as if we have a sophisticated NN (without CNN brain)\n",
        "1. Hyperparameters\n",
        "2. Network Parameters\n",
        "3. TF Graph Input\n",
        "4. MLP Model\n",
        "5. Weights, Biases, Cost , Optimizer\n",
        "6. Running and evaluating the accuracy"
      ]
    },
    {
      "metadata": {
        "id": "8RchHycOs73V",
        "colab_type": "code",
        "colab": {}
      },
      "cell_type": "code",
      "source": [
        "# Parameters\n",
        "learning_rate   = 0.001\n",
        "training_epochs = 100\n",
        "batch_size      = 100"
      ],
      "execution_count": 0,
      "outputs": []
    },
    {
      "metadata": {
        "id": "xvYCdXLss73Y",
        "colab_type": "code",
        "colab": {}
      },
      "cell_type": "code",
      "source": [
        "# Network Parameters\n",
        "n_hidden_1 = 256\n",
        "n_hidden_2 = 256\n",
        "n_input    = 784\n",
        "n_classes  = 10\n",
        "n_samples  = mnist.train.num_examples"
      ],
      "execution_count": 0,
      "outputs": []
    },
    {
      "metadata": {
        "id": "hjIj1JrHs73a",
        "colab_type": "code",
        "colab": {}
      },
      "cell_type": "code",
      "source": [
        "# TF Graph Input\n",
        "x = tf.placeholder(\"float\", [None, n_input])\n",
        "y = tf.placeholder(\"float\", [None, n_classes])"
      ],
      "execution_count": 0,
      "outputs": []
    },
    {
      "metadata": {
        "id": "Yi5qKxIJs73f",
        "colab_type": "code",
        "colab": {}
      },
      "cell_type": "code",
      "source": [
        "# Multi Layer Perceptron Model\n",
        "def multilayer_perceptron(x, weights, biases):\n",
        "    '''\n",
        "    Add explanation\n",
        "    \n",
        "    '''\n",
        "    # First hidden layer with RELU activation function\n",
        "    layer_1 = tf.add(tf.matmul(x, weights['h1']), biases['b1'])\n",
        "    layer_1 = tf.nn.relu(layer_1)\n",
        "    \n",
        "    # Second layer\n",
        "    layer_2 = tf.add(tf.matmul(layer_1, weights['h2']), biases['b2'])\n",
        "    layer_2 = tf.nn.relu(layer_2)\n",
        "    \n",
        "    # Final output\n",
        "    \n",
        "    out_layer = tf.add(tf.matmul(layer_2, weights['out']), biases['out'])\n",
        "    return out_layer\n"
      ],
      "execution_count": 0,
      "outputs": []
    },
    {
      "metadata": {
        "id": "dVVgQoxxs73o",
        "colab_type": "code",
        "colab": {}
      },
      "cell_type": "code",
      "source": [
        "# weights and biases\n",
        "\n",
        "weights = {\n",
        "    'h1': tf.Variable(tf.random_normal([n_input, n_hidden_1])),\n",
        "    'h2': tf.Variable(tf.random_normal([n_hidden_1, n_hidden_2])),\n",
        "    'out':tf.Variable(tf.random_normal([n_hidden_2, n_classes]))\n",
        "}"
      ],
      "execution_count": 0,
      "outputs": []
    },
    {
      "metadata": {
        "id": "UL5vHwuZs73v",
        "colab_type": "code",
        "colab": {}
      },
      "cell_type": "code",
      "source": [
        "biases = {\n",
        "    'b1':tf.Variable(tf.random_normal([n_hidden_1])),\n",
        "    'b2':tf.Variable(tf.random_normal([n_hidden_2])),\n",
        "    'out':tf.Variable(tf.random_normal([n_classes]))\n",
        "}"
      ],
      "execution_count": 0,
      "outputs": []
    },
    {
      "metadata": {
        "id": "dRiWjE7Zs73z",
        "colab_type": "code",
        "colab": {}
      },
      "cell_type": "code",
      "source": [
        "#prediction label\n",
        "pred = multilayer_perceptron(x, weights, biases )"
      ],
      "execution_count": 0,
      "outputs": []
    },
    {
      "metadata": {
        "id": "uOZKaA8ys734",
        "colab_type": "code",
        "colab": {}
      },
      "cell_type": "code",
      "source": [
        "# Cost/Loss and Optimizer Functions\n",
        "cost = tf.reduce_mean(tf.nn.softmax_cross_entropy_with_logits_v2(labels=y, logits=pred))\n",
        "optimizer = tf.train.RMSPropOptimizer(learning_rate=learning_rate).minimize(cost)"
      ],
      "execution_count": 0,
      "outputs": []
    },
    {
      "metadata": {
        "id": "7pxbpYJfs738",
        "colab_type": "code",
        "colab": {}
      },
      "cell_type": "code",
      "source": [
        "# Initialize global variables\n",
        "init = tf.global_variables_initializer()"
      ],
      "execution_count": 0,
      "outputs": []
    },
    {
      "metadata": {
        "id": "_EnCGd3gs73_",
        "colab_type": "code",
        "colab": {
          "base_uri": "https://localhost:8080/",
          "height": 1734
        },
        "outputId": "cf81930f-24b9-49b2-bac2-927c3deaa0f6"
      },
      "cell_type": "code",
      "source": [
        "# Session - run and evaluate\n",
        "\n",
        "sess = tf.InteractiveSession()\n",
        "\n",
        "sess.run(init)\n",
        "\n",
        "for epoch in range(training_epochs):\n",
        "    avg_cost = 0.0\n",
        "    total_batch = int(n_samples/batch_size)\n",
        "    \n",
        "    #loop over all batches\n",
        "    for i in range(total_batch):\n",
        "        # grab the next batch for training the data and labels\n",
        "        batch_x, batch_y = mnist.train.next_batch(batch_size)\n",
        "        # feed into the dictionary in order to optimize and minimize loss\n",
        "        _, c = sess.run([optimizer, cost], feed_dict={x:batch_x, y:batch_y})\n",
        "        \n",
        "        #compute avg loss\n",
        "        avg_cost += c / total_batch\n",
        "        \n",
        "    print(\"Epoch: {} cost={:.4f}\".format(epoch+1, avg_cost))\n",
        "    \n",
        "print(\"Model has completed {} Epochs of training\".format(training_epochs))\n",
        "    \n",
        "    \n",
        "    \n",
        "    \n",
        "    \n",
        "    \n",
        "    \n",
        "    \n",
        "    \n",
        "    "
      ],
      "execution_count": 13,
      "outputs": [
        {
          "output_type": "stream",
          "text": [
            "Epoch: 1 cost=143.1338\n",
            "Epoch: 2 cost=32.5872\n",
            "Epoch: 3 cost=20.0409\n",
            "Epoch: 4 cost=13.7419\n",
            "Epoch: 5 cost=10.1418\n",
            "Epoch: 6 cost=7.6187\n",
            "Epoch: 7 cost=5.7254\n",
            "Epoch: 8 cost=4.4102\n",
            "Epoch: 9 cost=3.4081\n",
            "Epoch: 10 cost=2.6692\n",
            "Epoch: 11 cost=2.1365\n",
            "Epoch: 12 cost=1.6391\n",
            "Epoch: 13 cost=1.2788\n",
            "Epoch: 14 cost=1.0828\n",
            "Epoch: 15 cost=0.8863\n",
            "Epoch: 16 cost=0.7188\n",
            "Epoch: 17 cost=0.6133\n",
            "Epoch: 18 cost=0.5211\n",
            "Epoch: 19 cost=0.4576\n",
            "Epoch: 20 cost=0.3957\n",
            "Epoch: 21 cost=0.3648\n",
            "Epoch: 22 cost=0.2891\n",
            "Epoch: 23 cost=0.2778\n",
            "Epoch: 24 cost=0.2468\n",
            "Epoch: 25 cost=0.2431\n",
            "Epoch: 26 cost=0.1997\n",
            "Epoch: 27 cost=0.2085\n",
            "Epoch: 28 cost=0.1856\n",
            "Epoch: 29 cost=0.1985\n",
            "Epoch: 30 cost=0.1783\n",
            "Epoch: 31 cost=0.1545\n",
            "Epoch: 32 cost=0.1710\n",
            "Epoch: 33 cost=0.1561\n",
            "Epoch: 34 cost=0.1404\n",
            "Epoch: 35 cost=0.1370\n",
            "Epoch: 36 cost=0.1241\n",
            "Epoch: 37 cost=0.1236\n",
            "Epoch: 38 cost=0.1007\n",
            "Epoch: 39 cost=0.1058\n",
            "Epoch: 40 cost=0.1185\n",
            "Epoch: 41 cost=0.0845\n",
            "Epoch: 42 cost=0.1062\n",
            "Epoch: 43 cost=0.1066\n",
            "Epoch: 44 cost=0.0997\n",
            "Epoch: 45 cost=0.0852\n",
            "Epoch: 46 cost=0.0813\n",
            "Epoch: 47 cost=0.0784\n",
            "Epoch: 48 cost=0.0877\n",
            "Epoch: 49 cost=0.0877\n",
            "Epoch: 50 cost=0.0764\n",
            "Epoch: 51 cost=0.0867\n",
            "Epoch: 52 cost=0.0681\n",
            "Epoch: 53 cost=0.0829\n",
            "Epoch: 54 cost=0.0812\n",
            "Epoch: 55 cost=0.0646\n",
            "Epoch: 56 cost=0.0658\n",
            "Epoch: 57 cost=0.0649\n",
            "Epoch: 58 cost=0.0583\n",
            "Epoch: 59 cost=0.0621\n",
            "Epoch: 60 cost=0.0694\n",
            "Epoch: 61 cost=0.0583\n",
            "Epoch: 62 cost=0.0469\n",
            "Epoch: 63 cost=0.0578\n",
            "Epoch: 64 cost=0.0529\n",
            "Epoch: 65 cost=0.0508\n",
            "Epoch: 66 cost=0.0774\n",
            "Epoch: 67 cost=0.0416\n",
            "Epoch: 68 cost=0.0400\n",
            "Epoch: 69 cost=0.0457\n",
            "Epoch: 70 cost=0.0454\n",
            "Epoch: 71 cost=0.0432\n",
            "Epoch: 72 cost=0.0410\n",
            "Epoch: 73 cost=0.0370\n",
            "Epoch: 74 cost=0.0570\n",
            "Epoch: 75 cost=0.0411\n",
            "Epoch: 76 cost=0.0559\n",
            "Epoch: 77 cost=0.0430\n",
            "Epoch: 78 cost=0.0426\n",
            "Epoch: 79 cost=0.0482\n",
            "Epoch: 80 cost=0.0502\n",
            "Epoch: 81 cost=0.0502\n",
            "Epoch: 82 cost=0.0419\n",
            "Epoch: 83 cost=0.0441\n",
            "Epoch: 84 cost=0.0303\n",
            "Epoch: 85 cost=0.0394\n",
            "Epoch: 86 cost=0.0406\n",
            "Epoch: 87 cost=0.0354\n",
            "Epoch: 88 cost=0.0560\n",
            "Epoch: 89 cost=0.0311\n",
            "Epoch: 90 cost=0.0290\n",
            "Epoch: 91 cost=0.0232\n",
            "Epoch: 92 cost=0.0464\n",
            "Epoch: 93 cost=0.0477\n",
            "Epoch: 94 cost=0.0328\n",
            "Epoch: 95 cost=0.0203\n",
            "Epoch: 96 cost=0.0352\n",
            "Epoch: 97 cost=0.0261\n",
            "Epoch: 98 cost=0.0320\n",
            "Epoch: 99 cost=0.0336\n",
            "Epoch: 100 cost=0.0325\n",
            "Model has completed 100 Epochs of training\n"
          ],
          "name": "stdout"
        }
      ]
    },
    {
      "metadata": {
        "id": "8U8bCKe6s74D",
        "colab_type": "code",
        "colab": {}
      },
      "cell_type": "code",
      "source": [
        "# Model  Testing and Evaluation\n",
        "correct_predictions = tf.equal(tf.argmax(pred, 1), tf.argmax(y, 1))"
      ],
      "execution_count": 0,
      "outputs": []
    },
    {
      "metadata": {
        "id": "Ag-63oYys74F",
        "colab_type": "code",
        "colab": {
          "base_uri": "https://localhost:8080/",
          "height": 34
        },
        "outputId": "51bc9721-edf8-4d0e-b24c-355551a95157"
      },
      "cell_type": "code",
      "source": [
        "print(correct_predictions[0])"
      ],
      "execution_count": 15,
      "outputs": [
        {
          "output_type": "stream",
          "text": [
            "Tensor(\"strided_slice:0\", shape=(), dtype=bool)\n"
          ],
          "name": "stdout"
        }
      ]
    },
    {
      "metadata": {
        "id": "fHKuwpAbs74J",
        "colab_type": "code",
        "colab": {}
      },
      "cell_type": "code",
      "source": [
        "correct_predictions = tf.cast(correct_predictions, \"float\")\n"
      ],
      "execution_count": 0,
      "outputs": []
    },
    {
      "metadata": {
        "id": "yNvB6BnLs74M",
        "colab_type": "code",
        "colab": {}
      },
      "cell_type": "code",
      "source": [
        "accuracy = tf.reduce_mean(correct_predictions)\n"
      ],
      "execution_count": 0,
      "outputs": []
    },
    {
      "metadata": {
        "id": "mPuvelU3s74Q",
        "colab_type": "code",
        "colab": {
          "base_uri": "https://localhost:8080/",
          "height": 34
        },
        "outputId": "05676250-4cb2-4839-f04e-13766eb2cef6"
      },
      "cell_type": "code",
      "source": [
        "type(accuracy)"
      ],
      "execution_count": 18,
      "outputs": [
        {
          "output_type": "execute_result",
          "data": {
            "text/plain": [
              "tensorflow.python.framework.ops.Tensor"
            ]
          },
          "metadata": {
            "tags": []
          },
          "execution_count": 18
        }
      ]
    },
    {
      "metadata": {
        "id": "iw64UIugs74W",
        "colab_type": "code",
        "colab": {
          "base_uri": "https://localhost:8080/",
          "height": 34
        },
        "outputId": "9340fd21-d401-4eff-d4d2-3ea9cdfbbaa8"
      },
      "cell_type": "code",
      "source": [
        "print(\"Accuracy:\", accuracy.eval({x:mnist.test.images, y:mnist.test.labels}))"
      ],
      "execution_count": 19,
      "outputs": [
        {
          "output_type": "stream",
          "text": [
            "Accuracy: 0.9566\n"
          ],
          "name": "stdout"
        }
      ]
    },
    {
      "metadata": {
        "id": "ZoXeeDr5s74Z",
        "colab_type": "code",
        "colab": {}
      },
      "cell_type": "code",
      "source": [
        ""
      ],
      "execution_count": 0,
      "outputs": []
    }
  ]
}