{
  "nbformat": 4,
  "nbformat_minor": 0,
  "metadata": {
    "colab": {
      "name": "First-Keras-NN.ipynb",
      "version": "0.3.2",
      "provenance": [],
      "include_colab_link": true
    },
    "kernelspec": {
      "display_name": "Python 3",
      "language": "python",
      "name": "python3"
    }
  },
  "cells": [
    {
      "cell_type": "markdown",
      "metadata": {
        "id": "view-in-github",
        "colab_type": "text"
      },
      "source": [
        "<a href=\"https://colab.research.google.com/github/Anjal1p/Python-practice/blob/master/First_Keras_NN.ipynb\" target=\"_parent\"><img src=\"https://colab.research.google.com/assets/colab-badge.svg\" alt=\"Open In Colab\"/></a>"
      ]
    },
    {
      "metadata": {
        "id": "xj49NsjEycNG",
        "colab_type": "code",
        "colab": {
          "base_uri": "https://localhost:8080/",
          "height": 153
        },
        "outputId": "d20eb84c-fbfd-4b9d-94df-4483331fe7ef"
      },
      "cell_type": "code",
      "source": [
        "!pip install keras"
      ],
      "execution_count": 1,
      "outputs": [
        {
          "output_type": "stream",
          "text": [
            "Requirement already satisfied: keras in /usr/local/lib/python3.6/dist-packages (2.2.4)\n",
            "Requirement already satisfied: numpy>=1.9.1 in /usr/local/lib/python3.6/dist-packages (from keras) (1.14.6)\n",
            "Requirement already satisfied: six>=1.9.0 in /usr/local/lib/python3.6/dist-packages (from keras) (1.11.0)\n",
            "Requirement already satisfied: scipy>=0.14 in /usr/local/lib/python3.6/dist-packages (from keras) (1.1.0)\n",
            "Requirement already satisfied: pyyaml in /usr/local/lib/python3.6/dist-packages (from keras) (3.13)\n",
            "Requirement already satisfied: keras-preprocessing>=1.0.5 in /usr/local/lib/python3.6/dist-packages (from keras) (1.0.5)\n",
            "Requirement already satisfied: h5py in /usr/local/lib/python3.6/dist-packages (from keras) (2.8.0)\n",
            "Requirement already satisfied: keras-applications>=1.0.6 in /usr/local/lib/python3.6/dist-packages (from keras) (1.0.6)\n"
          ],
          "name": "stdout"
        }
      ]
    },
    {
      "metadata": {
        "id": "wMES-G3UycNL",
        "colab_type": "code",
        "colab": {
          "base_uri": "https://localhost:8080/",
          "height": 34
        },
        "outputId": "dbacdd14-a40b-4d5b-9db8-45b586573722"
      },
      "cell_type": "code",
      "source": [
        "import keras"
      ],
      "execution_count": 2,
      "outputs": [
        {
          "output_type": "stream",
          "text": [
            "Using TensorFlow backend.\n"
          ],
          "name": "stderr"
        }
      ]
    },
    {
      "metadata": {
        "id": "6kr0ygdwycNO",
        "colab_type": "code",
        "colab": {
          "base_uri": "https://localhost:8080/",
          "height": 34
        },
        "outputId": "01d71928-0a7f-49f8-8ab0-9ca1e8dc9e40"
      },
      "cell_type": "code",
      "source": [
        "keras.__version__"
      ],
      "execution_count": 3,
      "outputs": [
        {
          "output_type": "execute_result",
          "data": {
            "text/plain": [
              "'2.2.4'"
            ]
          },
          "metadata": {
            "tags": []
          },
          "execution_count": 3
        }
      ]
    },
    {
      "metadata": {
        "id": "7oGnrM_yycNR",
        "colab_type": "code",
        "colab": {}
      },
      "cell_type": "code",
      "source": [
        "from keras.datasets import mnist"
      ],
      "execution_count": 0,
      "outputs": []
    },
    {
      "metadata": {
        "id": "H65vpLOZycNT",
        "colab_type": "code",
        "colab": {
          "base_uri": "https://localhost:8080/",
          "height": 51
        },
        "outputId": "4ff755a8-1066-47e8-8787-ee4947e326dd"
      },
      "cell_type": "code",
      "source": [
        "(train_images, train_labels), (test_images, test_labels) = mnist.load_data()"
      ],
      "execution_count": 5,
      "outputs": [
        {
          "output_type": "stream",
          "text": [
            "Downloading data from https://s3.amazonaws.com/img-datasets/mnist.npz\n",
            "11493376/11490434 [==============================] - 0s 0us/step\n"
          ],
          "name": "stdout"
        }
      ]
    },
    {
      "metadata": {
        "id": "VR3fPbuOycNW",
        "colab_type": "code",
        "colab": {
          "base_uri": "https://localhost:8080/",
          "height": 34
        },
        "outputId": "077161ae-a3be-47b9-9bef-169efb602904"
      },
      "cell_type": "code",
      "source": [
        "train_images.shape"
      ],
      "execution_count": 6,
      "outputs": [
        {
          "output_type": "execute_result",
          "data": {
            "text/plain": [
              "(60000, 28, 28)"
            ]
          },
          "metadata": {
            "tags": []
          },
          "execution_count": 6
        }
      ]
    },
    {
      "metadata": {
        "id": "GeeG2vTcycNY",
        "colab_type": "code",
        "colab": {
          "base_uri": "https://localhost:8080/",
          "height": 34
        },
        "outputId": "2ffdd860-4e9e-43aa-91e4-8bde15184232"
      },
      "cell_type": "code",
      "source": [
        "len(train_labels)"
      ],
      "execution_count": 7,
      "outputs": [
        {
          "output_type": "execute_result",
          "data": {
            "text/plain": [
              "60000"
            ]
          },
          "metadata": {
            "tags": []
          },
          "execution_count": 7
        }
      ]
    },
    {
      "metadata": {
        "id": "viV7xB47ycNb",
        "colab_type": "code",
        "colab": {
          "base_uri": "https://localhost:8080/",
          "height": 34
        },
        "outputId": "3a6c1a97-bc25-42db-8796-656f999d86fc"
      },
      "cell_type": "code",
      "source": [
        "train_labels"
      ],
      "execution_count": 8,
      "outputs": [
        {
          "output_type": "execute_result",
          "data": {
            "text/plain": [
              "array([5, 0, 4, ..., 5, 6, 8], dtype=uint8)"
            ]
          },
          "metadata": {
            "tags": []
          },
          "execution_count": 8
        }
      ]
    },
    {
      "metadata": {
        "id": "X-x9Kw6hycNe",
        "colab_type": "code",
        "colab": {
          "base_uri": "https://localhost:8080/",
          "height": 34
        },
        "outputId": "697eea0f-26e0-44b7-d53d-440434658125"
      },
      "cell_type": "code",
      "source": [
        "test_images.shape"
      ],
      "execution_count": 9,
      "outputs": [
        {
          "output_type": "execute_result",
          "data": {
            "text/plain": [
              "(10000, 28, 28)"
            ]
          },
          "metadata": {
            "tags": []
          },
          "execution_count": 9
        }
      ]
    },
    {
      "metadata": {
        "id": "WDThkjUTycNg",
        "colab_type": "code",
        "colab": {
          "base_uri": "https://localhost:8080/",
          "height": 34
        },
        "outputId": "00f6d6bf-1297-4c30-d33e-71c370a60b1c"
      },
      "cell_type": "code",
      "source": [
        "len(test_labels)"
      ],
      "execution_count": 10,
      "outputs": [
        {
          "output_type": "execute_result",
          "data": {
            "text/plain": [
              "10000"
            ]
          },
          "metadata": {
            "tags": []
          },
          "execution_count": 10
        }
      ]
    },
    {
      "metadata": {
        "id": "DWpGVDzaycNj",
        "colab_type": "code",
        "colab": {
          "base_uri": "https://localhost:8080/",
          "height": 34
        },
        "outputId": "71e50dd9-9ac3-4ec8-8ca9-8840ee99cab8"
      },
      "cell_type": "code",
      "source": [
        "test_labels"
      ],
      "execution_count": 11,
      "outputs": [
        {
          "output_type": "execute_result",
          "data": {
            "text/plain": [
              "array([7, 2, 1, ..., 4, 5, 6], dtype=uint8)"
            ]
          },
          "metadata": {
            "tags": []
          },
          "execution_count": 11
        }
      ]
    },
    {
      "metadata": {
        "id": "bZM65-tYycNl",
        "colab_type": "code",
        "colab": {}
      },
      "cell_type": "code",
      "source": [
        "from keras import models \n",
        "from keras import layers\n",
        "from keras.utils import to_categorical"
      ],
      "execution_count": 0,
      "outputs": []
    },
    {
      "metadata": {
        "id": "RqGvzegqycNn",
        "colab_type": "code",
        "colab": {}
      },
      "cell_type": "code",
      "source": [
        "network = models.Sequential()\n",
        "network.add(layers.Dense(512, activation='relu', input_shape=(28*28,)))\n",
        "network.add(layers.Dense(10, activation='softmax'))"
      ],
      "execution_count": 0,
      "outputs": []
    },
    {
      "metadata": {
        "id": "jmSlmB3TycNq",
        "colab_type": "code",
        "colab": {}
      },
      "cell_type": "code",
      "source": [
        "network.compile(optimizer = 'adam',\n",
        "               loss = 'categorical_crossentropy',\n",
        "               metrics=['accuracy'])"
      ],
      "execution_count": 0,
      "outputs": []
    },
    {
      "metadata": {
        "id": "kp_kMPteycNs",
        "colab_type": "code",
        "colab": {}
      },
      "cell_type": "code",
      "source": [
        "train_images = train_images.reshape((60000, 28*28))\n",
        "train_images = train_images.astype('float32')/255\n",
        "test_images = test_images.reshape((10000, 28*28))\n",
        "test_images = test_images.astype('float32')/255"
      ],
      "execution_count": 0,
      "outputs": []
    },
    {
      "metadata": {
        "id": "88dUa1dyycNu",
        "colab_type": "code",
        "colab": {}
      },
      "cell_type": "code",
      "source": [
        "train_labels = to_categorical(train_labels)\n",
        "test_labels = to_categorical(test_labels)"
      ],
      "execution_count": 0,
      "outputs": []
    },
    {
      "metadata": {
        "id": "oG2o3fPyycNy",
        "colab_type": "code",
        "colab": {
          "base_uri": "https://localhost:8080/",
          "height": 3434
        },
        "outputId": "5339ee62-c263-49eb-a83f-1d9088c44318"
      },
      "cell_type": "code",
      "source": [
        "network.fit(train_images, train_labels, epochs=100, batch_size=128  )"
      ],
      "execution_count": 17,
      "outputs": [
        {
          "output_type": "stream",
          "text": [
            "Epoch 1/100\n",
            "60000/60000 [==============================] - 6s 92us/step - loss: 0.2692 - acc: 0.9232\n",
            "Epoch 2/100\n",
            "60000/60000 [==============================] - 5s 88us/step - loss: 0.1094 - acc: 0.9677\n",
            "Epoch 3/100\n",
            "60000/60000 [==============================] - 5s 87us/step - loss: 0.0703 - acc: 0.9795\n",
            "Epoch 4/100\n",
            "60000/60000 [==============================] - 5s 88us/step - loss: 0.0506 - acc: 0.9852\n",
            "Epoch 5/100\n",
            "60000/60000 [==============================] - 5s 85us/step - loss: 0.0363 - acc: 0.9899\n",
            "Epoch 6/100\n",
            "60000/60000 [==============================] - 5s 84us/step - loss: 0.0286 - acc: 0.9916\n",
            "Epoch 7/100\n",
            "60000/60000 [==============================] - 5s 84us/step - loss: 0.0213 - acc: 0.9943\n",
            "Epoch 8/100\n",
            "60000/60000 [==============================] - 5s 83us/step - loss: 0.0159 - acc: 0.9960\n",
            "Epoch 9/100\n",
            "60000/60000 [==============================] - 5s 84us/step - loss: 0.0131 - acc: 0.9969\n",
            "Epoch 10/100\n",
            "60000/60000 [==============================] - 5s 85us/step - loss: 0.0087 - acc: 0.9981\n",
            "Epoch 11/100\n",
            "60000/60000 [==============================] - 5s 86us/step - loss: 0.0076 - acc: 0.9984\n",
            "Epoch 12/100\n",
            "60000/60000 [==============================] - 5s 87us/step - loss: 0.0065 - acc: 0.9987\n",
            "Epoch 13/100\n",
            "60000/60000 [==============================] - 5s 85us/step - loss: 0.0062 - acc: 0.9987\n",
            "Epoch 14/100\n",
            "60000/60000 [==============================] - 5s 84us/step - loss: 0.0057 - acc: 0.9987\n",
            "Epoch 15/100\n",
            "60000/60000 [==============================] - 5s 84us/step - loss: 0.0056 - acc: 0.9983\n",
            "Epoch 16/100\n",
            "60000/60000 [==============================] - 5s 85us/step - loss: 0.0045 - acc: 0.9989\n",
            "Epoch 17/100\n",
            "60000/60000 [==============================] - 5s 85us/step - loss: 0.0054 - acc: 0.9985\n",
            "Epoch 18/100\n",
            "60000/60000 [==============================] - 5s 83us/step - loss: 0.0052 - acc: 0.9984\n",
            "Epoch 19/100\n",
            "60000/60000 [==============================] - 5s 85us/step - loss: 0.0045 - acc: 0.9986\n",
            "Epoch 20/100\n",
            "60000/60000 [==============================] - 5s 84us/step - loss: 0.0026 - acc: 0.9993\n",
            "Epoch 21/100\n",
            "60000/60000 [==============================] - 5s 85us/step - loss: 4.9572e-04 - acc: 1.0000\n",
            "Epoch 22/100\n",
            "60000/60000 [==============================] - 5s 87us/step - loss: 2.1353e-04 - acc: 1.0000\n",
            "Epoch 23/100\n",
            "60000/60000 [==============================] - 5s 84us/step - loss: 1.6137e-04 - acc: 1.0000\n",
            "Epoch 24/100\n",
            "60000/60000 [==============================] - 5s 86us/step - loss: 1.7345e-04 - acc: 1.0000\n",
            "Epoch 25/100\n",
            "60000/60000 [==============================] - 5s 85us/step - loss: 1.3482e-04 - acc: 1.0000\n",
            "Epoch 26/100\n",
            "60000/60000 [==============================] - 5s 85us/step - loss: 1.1255e-04 - acc: 1.0000\n",
            "Epoch 27/100\n",
            "60000/60000 [==============================] - 5s 85us/step - loss: 0.0110 - acc: 0.9970\n",
            "Epoch 28/100\n",
            "60000/60000 [==============================] - 5s 84us/step - loss: 0.0123 - acc: 0.9957\n",
            "Epoch 29/100\n",
            "60000/60000 [==============================] - 5s 83us/step - loss: 0.0023 - acc: 0.9993\n",
            "Epoch 30/100\n",
            "60000/60000 [==============================] - 5s 84us/step - loss: 5.4424e-04 - acc: 1.0000\n",
            "Epoch 31/100\n",
            "60000/60000 [==============================] - 5s 85us/step - loss: 1.7629e-04 - acc: 1.0000\n",
            "Epoch 32/100\n",
            "60000/60000 [==============================] - 5s 87us/step - loss: 1.2554e-04 - acc: 1.0000\n",
            "Epoch 33/100\n",
            "60000/60000 [==============================] - 5s 84us/step - loss: 1.0108e-04 - acc: 1.0000\n",
            "Epoch 34/100\n",
            "60000/60000 [==============================] - 5s 87us/step - loss: 8.5595e-05 - acc: 1.0000\n",
            "Epoch 35/100\n",
            "60000/60000 [==============================] - 5s 88us/step - loss: 7.3028e-05 - acc: 1.0000\n",
            "Epoch 36/100\n",
            "60000/60000 [==============================] - 5s 87us/step - loss: 6.3155e-05 - acc: 1.0000\n",
            "Epoch 37/100\n",
            "60000/60000 [==============================] - 5s 83us/step - loss: 5.3187e-05 - acc: 1.0000\n",
            "Epoch 38/100\n",
            "60000/60000 [==============================] - 5s 83us/step - loss: 4.5616e-05 - acc: 1.0000\n",
            "Epoch 39/100\n",
            "60000/60000 [==============================] - 5s 85us/step - loss: 3.8867e-05 - acc: 1.0000\n",
            "Epoch 40/100\n",
            "60000/60000 [==============================] - 5s 88us/step - loss: 3.3496e-05 - acc: 1.0000\n",
            "Epoch 41/100\n",
            "60000/60000 [==============================] - 5s 88us/step - loss: 2.7743e-05 - acc: 1.0000\n",
            "Epoch 42/100\n",
            "60000/60000 [==============================] - 5s 85us/step - loss: 2.3853e-05 - acc: 1.0000\n",
            "Epoch 43/100\n",
            "60000/60000 [==============================] - 7s 110us/step - loss: 2.0313e-05 - acc: 1.0000\n",
            "Epoch 44/100\n",
            "60000/60000 [==============================] - 6s 103us/step - loss: 0.0028 - acc: 0.9993\n",
            "Epoch 45/100\n",
            "60000/60000 [==============================] - 5s 88us/step - loss: 0.0181 - acc: 0.9945\n",
            "Epoch 46/100\n",
            "60000/60000 [==============================] - 5s 88us/step - loss: 0.0019 - acc: 0.9994\n",
            "Epoch 47/100\n",
            "60000/60000 [==============================] - 6s 97us/step - loss: 2.6327e-04 - acc: 1.0000\n",
            "Epoch 48/100\n",
            "60000/60000 [==============================] - 9s 146us/step - loss: 9.5594e-05 - acc: 1.0000\n",
            "Epoch 49/100\n",
            "60000/60000 [==============================] - 10s 175us/step - loss: 6.9556e-05 - acc: 1.0000\n",
            "Epoch 50/100\n",
            "60000/60000 [==============================] - 10s 175us/step - loss: 5.6815e-05 - acc: 1.0000\n",
            "Epoch 51/100\n",
            "60000/60000 [==============================] - 11s 184us/step - loss: 4.7515e-05 - acc: 1.0000\n",
            "Epoch 52/100\n",
            "60000/60000 [==============================] - 11s 185us/step - loss: 3.9935e-05 - acc: 1.0000\n",
            "Epoch 53/100\n",
            "60000/60000 [==============================] - 11s 184us/step - loss: 3.3728e-05 - acc: 1.0000\n",
            "Epoch 54/100\n",
            "60000/60000 [==============================] - 11s 180us/step - loss: 2.8773e-05 - acc: 1.0000\n",
            "Epoch 55/100\n",
            "60000/60000 [==============================] - 10s 167us/step - loss: 2.4335e-05 - acc: 1.0000\n",
            "Epoch 56/100\n",
            "60000/60000 [==============================] - 11s 175us/step - loss: 2.0871e-05 - acc: 1.0000\n",
            "Epoch 57/100\n",
            "60000/60000 [==============================] - 10s 167us/step - loss: 1.7849e-05 - acc: 1.0000\n",
            "Epoch 58/100\n",
            "60000/60000 [==============================] - 10s 168us/step - loss: 1.5263e-05 - acc: 1.0000\n",
            "Epoch 59/100\n",
            "60000/60000 [==============================] - 10s 168us/step - loss: 1.3087e-05 - acc: 1.0000\n",
            "Epoch 60/100\n",
            "60000/60000 [==============================] - 11s 179us/step - loss: 1.1200e-05 - acc: 1.0000\n",
            "Epoch 61/100\n",
            "60000/60000 [==============================] - 11s 179us/step - loss: 9.4587e-06 - acc: 1.0000\n",
            "Epoch 62/100\n",
            "60000/60000 [==============================] - 10s 171us/step - loss: 7.9378e-06 - acc: 1.0000\n",
            "Epoch 63/100\n",
            "60000/60000 [==============================] - 10s 171us/step - loss: 6.9832e-06 - acc: 1.0000\n",
            "Epoch 64/100\n",
            "60000/60000 [==============================] - 11s 179us/step - loss: 6.0432e-06 - acc: 1.0000\n",
            "Epoch 65/100\n",
            "60000/60000 [==============================] - 11s 179us/step - loss: 4.9837e-06 - acc: 1.0000\n",
            "Epoch 66/100\n",
            "60000/60000 [==============================] - 10s 168us/step - loss: 0.0209 - acc: 0.9947\n",
            "Epoch 67/100\n",
            "60000/60000 [==============================] - 11s 177us/step - loss: 0.0030 - acc: 0.9990\n",
            "Epoch 68/100\n",
            "60000/60000 [==============================] - 11s 179us/step - loss: 3.3784e-04 - acc: 0.9999\n",
            "Epoch 69/100\n",
            "60000/60000 [==============================] - 11s 177us/step - loss: 1.1243e-04 - acc: 1.0000\n",
            "Epoch 70/100\n",
            "60000/60000 [==============================] - 10s 174us/step - loss: 4.6574e-05 - acc: 1.0000\n",
            "Epoch 71/100\n",
            "60000/60000 [==============================] - 10s 173us/step - loss: 3.6089e-05 - acc: 1.0000\n",
            "Epoch 72/100\n",
            "60000/60000 [==============================] - 10s 168us/step - loss: 2.9758e-05 - acc: 1.0000\n",
            "Epoch 73/100\n",
            "60000/60000 [==============================] - 10s 168us/step - loss: 2.4966e-05 - acc: 1.0000\n",
            "Epoch 74/100\n",
            "60000/60000 [==============================] - 10s 174us/step - loss: 2.1038e-05 - acc: 1.0000\n",
            "Epoch 75/100\n",
            "60000/60000 [==============================] - 11s 178us/step - loss: 1.7917e-05 - acc: 1.0000\n",
            "Epoch 76/100\n",
            "60000/60000 [==============================] - 11s 176us/step - loss: 1.5247e-05 - acc: 1.0000\n",
            "Epoch 77/100\n",
            "60000/60000 [==============================] - 10s 172us/step - loss: 1.2938e-05 - acc: 1.0000\n",
            "Epoch 78/100\n",
            "60000/60000 [==============================] - 11s 178us/step - loss: 1.1098e-05 - acc: 1.0000\n",
            "Epoch 79/100\n",
            "60000/60000 [==============================] - 10s 174us/step - loss: 9.4869e-06 - acc: 1.0000\n",
            "Epoch 80/100\n",
            "60000/60000 [==============================] - 11s 179us/step - loss: 8.0958e-06 - acc: 1.0000\n",
            "Epoch 81/100\n",
            "60000/60000 [==============================] - 11s 178us/step - loss: 7.0000e-06 - acc: 1.0000\n",
            "Epoch 82/100\n",
            "60000/60000 [==============================] - 11s 184us/step - loss: 6.0017e-06 - acc: 1.0000\n",
            "Epoch 83/100\n",
            "60000/60000 [==============================] - 11s 175us/step - loss: 5.0865e-06 - acc: 1.0000\n",
            "Epoch 84/100\n",
            "60000/60000 [==============================] - 10s 173us/step - loss: 4.3233e-06 - acc: 1.0000\n",
            "Epoch 85/100\n",
            "60000/60000 [==============================] - 10s 172us/step - loss: 3.7012e-06 - acc: 1.0000\n",
            "Epoch 86/100\n",
            "60000/60000 [==============================] - 11s 176us/step - loss: 3.1482e-06 - acc: 1.0000\n",
            "Epoch 87/100\n",
            "60000/60000 [==============================] - 11s 176us/step - loss: 2.6515e-06 - acc: 1.0000\n",
            "Epoch 88/100\n",
            "60000/60000 [==============================] - 11s 177us/step - loss: 2.3409e-06 - acc: 1.0000\n",
            "Epoch 89/100\n",
            "60000/60000 [==============================] - 11s 178us/step - loss: 1.9193e-06 - acc: 1.0000\n",
            "Epoch 90/100\n",
            "60000/60000 [==============================] - 10s 174us/step - loss: 1.5953e-06 - acc: 1.0000\n",
            "Epoch 91/100\n",
            "60000/60000 [==============================] - 10s 175us/step - loss: 1.3887e-06 - acc: 1.0000\n",
            "Epoch 92/100\n",
            "60000/60000 [==============================] - 10s 172us/step - loss: 1.1946e-06 - acc: 1.0000\n",
            "Epoch 93/100\n",
            "60000/60000 [==============================] - 11s 179us/step - loss: 9.8715e-07 - acc: 1.0000\n",
            "Epoch 94/100\n",
            "60000/60000 [==============================] - 11s 175us/step - loss: 0.0135 - acc: 0.9969\n",
            "Epoch 95/100\n",
            "60000/60000 [==============================] - 11s 179us/step - loss: 0.0095 - acc: 0.9973\n",
            "Epoch 96/100\n",
            "60000/60000 [==============================] - 11s 178us/step - loss: 7.5712e-04 - acc: 0.9998\n",
            "Epoch 97/100\n",
            "60000/60000 [==============================] - 10s 175us/step - loss: 3.7548e-04 - acc: 0.9999\n",
            "Epoch 98/100\n",
            "60000/60000 [==============================] - 11s 176us/step - loss: 3.7980e-05 - acc: 1.0000\n",
            "Epoch 99/100\n",
            "60000/60000 [==============================] - 10s 171us/step - loss: 2.3075e-05 - acc: 1.0000\n",
            "Epoch 100/100\n",
            "60000/60000 [==============================] - 11s 179us/step - loss: 1.8447e-05 - acc: 1.0000\n"
          ],
          "name": "stdout"
        },
        {
          "output_type": "execute_result",
          "data": {
            "text/plain": [
              "<keras.callbacks.History at 0x7f26332b7400>"
            ]
          },
          "metadata": {
            "tags": []
          },
          "execution_count": 17
        }
      ]
    },
    {
      "metadata": {
        "id": "_EZ0s2pqycN1",
        "colab_type": "code",
        "colab": {
          "base_uri": "https://localhost:8080/",
          "height": 34
        },
        "outputId": "cb59e70e-e94b-485e-b960-f0fc5c264dd7"
      },
      "cell_type": "code",
      "source": [
        "test_loss, test_acc = network.evaluate(test_images, test_labels)"
      ],
      "execution_count": 18,
      "outputs": [
        {
          "output_type": "stream",
          "text": [
            "10000/10000 [==============================] - 1s 75us/step\n"
          ],
          "name": "stdout"
        }
      ]
    },
    {
      "metadata": {
        "id": "eb3UIlqfycN3",
        "colab_type": "code",
        "colab": {
          "base_uri": "https://localhost:8080/",
          "height": 34
        },
        "outputId": "ad448335-549c-415f-e758-8d8fc971965f"
      },
      "cell_type": "code",
      "source": [
        "print('test_acc is: ', test_acc)"
      ],
      "execution_count": 19,
      "outputs": [
        {
          "output_type": "stream",
          "text": [
            "test_acc is:  0.9833\n"
          ],
          "name": "stdout"
        }
      ]
    },
    {
      "metadata": {
        "id": "QK8Buld8ycN5",
        "colab_type": "code",
        "colab": {}
      },
      "cell_type": "code",
      "source": [
        ""
      ],
      "execution_count": 0,
      "outputs": []
    }
  ]
}
